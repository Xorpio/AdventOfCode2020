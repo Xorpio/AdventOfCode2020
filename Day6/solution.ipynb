{
 "metadata": {
  "language_info": {
   "codemirror_mode": {
    "name": "ipython",
    "version": 3
   },
   "file_extension": ".py",
   "mimetype": "text/x-python",
   "name": "python",
   "nbconvert_exporter": "python",
   "pygments_lexer": "ipython3",
   "version": "3.8.1-final"
  },
  "orig_nbformat": 2,
  "kernelspec": {
   "name": "python38164bit38516b06caf242f187f61d50df0f2a50",
   "display_name": "Python 3.8.1 64-bit"
  }
 },
 "nbformat": 4,
 "nbformat_minor": 2,
 "cells": [
  {
   "cell_type": "code",
   "execution_count": 35,
   "metadata": {},
   "outputs": [],
   "source": [
    "file1 = open(r\"input.txt\", 'r') \n",
    "lines = file1.read().split('\\n\\n')\n",
    "for i, line in enumerate(lines):\n",
    "    lines[i] = line.rstrip()"
   ]
  },
  {
   "cell_type": "code",
   "execution_count": 36,
   "metadata": {},
   "outputs": [],
   "source": [
    "def getYesCount(input):\n",
    "    chars = []\n",
    "    for char in input:\n",
    "        if char != '\\n' and char not in chars:\n",
    "            chars.append(char)\n",
    "    return len(chars)"
   ]
  },
  {
   "cell_type": "code",
   "execution_count": 37,
   "metadata": {},
   "outputs": [
    {
     "output_type": "execute_result",
     "data": {
      "text/plain": [
       "17"
      ]
     },
     "metadata": {},
     "execution_count": 37
    }
   ],
   "source": [
    "getYesCount(lines[1])"
   ]
  },
  {
   "cell_type": "code",
   "execution_count": 38,
   "metadata": {},
   "outputs": [
    {
     "output_type": "execute_result",
     "data": {
      "text/plain": [
       "6625"
      ]
     },
     "metadata": {},
     "execution_count": 38
    }
   ],
   "source": [
    "count = 0\n",
    "for groups in lines:\n",
    "    count += getYesCount(groups)\n",
    "count"
   ]
  },
  {
   "cell_type": "code",
   "execution_count": 39,
   "metadata": {},
   "outputs": [
    {
     "output_type": "execute_result",
     "data": {
      "text/plain": [
       "2"
      ]
     },
     "metadata": {},
     "execution_count": 39
    }
   ],
   "source": [
    "def getAllYesCount(group):\n",
    "    countQuestions = {}\n",
    "    persons = group.split('\\n')\n",
    "    for person in persons:\n",
    "        for question in person:\n",
    "            if question not in countQuestions:\n",
    "                countQuestions[question] = 0\n",
    "            countQuestions[question] += 1   \n",
    "    allYes = 0\n",
    "    for count in countQuestions:\n",
    "        if countQuestions[count] == len(persons):\n",
    "            allYes += 1\n",
    "    \n",
    "    return allYes\n",
    "getAllYesCount(lines[4])"
   ]
  },
  {
   "cell_type": "code",
   "execution_count": 40,
   "metadata": {
    "tags": []
   },
   "outputs": [
    {
     "output_type": "execute_result",
     "data": {
      "text/plain": [
       "3360"
      ]
     },
     "metadata": {},
     "execution_count": 40
    }
   ],
   "source": [
    "count = 0\n",
    "for groups in lines:\n",
    "   c = getAllYesCount(groups)\n",
    "   count += c\n",
    "count"
   ]
  },
  {
   "cell_type": "code",
   "execution_count": 30,
   "metadata": {},
   "outputs": [
    {
     "output_type": "stream",
     "name": "stdout",
     "text": [
      "b\n"
     ]
    }
   ],
   "source": []
  },
  {
   "cell_type": "code",
   "execution_count": null,
   "metadata": {},
   "outputs": [],
   "source": []
  }
 ]
}