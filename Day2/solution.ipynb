{
 "metadata": {
  "language_info": {
   "codemirror_mode": {
    "name": "ipython",
    "version": 3
   },
   "file_extension": ".py",
   "mimetype": "text/x-python",
   "name": "python",
   "nbconvert_exporter": "python",
   "pygments_lexer": "ipython3",
   "version": "3.8.1-final"
  },
  "orig_nbformat": 2,
  "kernelspec": {
   "name": "python38164bit38516b06caf242f187f61d50df0f2a50",
   "display_name": "Python 3.8.1 64-bit"
  }
 },
 "nbformat": 4,
 "nbformat_minor": 2,
 "cells": [
  {
   "cell_type": "code",
   "execution_count": 2,
   "metadata": {},
   "outputs": [],
   "source": [
    "def isValid(input):\n",
    "    x = input.split()\n",
    "    letter = x[1][0]\n",
    "\n",
    "    count = stringCount(letter, x[2])\n",
    "    min = int(x[0].split('-')[0])\n",
    "    max = int(x[0].split('-')[1])\n",
    "    return (x[2][min - 1] == letter and x[2][max - 1] != letter) or (x[2][min - 1] != letter and x[2][max - 1] == letter)\n",
    "\n",
    "def stringCount(count, inp):\n",
    "    i = 0;\n",
    "    for c in inp:\n",
    "        if c == count:\n",
    "            i = i + 1;\n",
    "    return i; "
   ]
  },
  {
   "cell_type": "code",
   "execution_count": 3,
   "metadata": {
    "tags": []
   },
   "outputs": [
    {
     "output_type": "stream",
     "name": "stdout",
     "text": [
      "489\n"
     ]
    }
   ],
   "source": [
    "\n",
    "file1 = open(r\"input.txt\", 'r') \n",
    "Lines = file1.readlines() \n",
    "ca = 0;\n",
    "for line in Lines:\n",
    "    if (isValid(line)):\n",
    "        ca = ca + 1\n",
    "\n",
    "print(ca)\n"
   ]
  }
 ]
}