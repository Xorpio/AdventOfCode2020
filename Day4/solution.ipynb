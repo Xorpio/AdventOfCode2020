{
 "metadata": {
  "language_info": {
   "codemirror_mode": {
    "name": "ipython",
    "version": 3
   },
   "file_extension": ".py",
   "mimetype": "text/x-python",
   "name": "python",
   "nbconvert_exporter": "python",
   "pygments_lexer": "ipython3",
   "version": "3.8.1-final"
  },
  "orig_nbformat": 2,
  "kernelspec": {
   "name": "python38164bit38516b06caf242f187f61d50df0f2a50",
   "display_name": "Python 3.8.1 64-bit"
  }
 },
 "nbformat": 4,
 "nbformat_minor": 2,
 "cells": [
  {
   "cell_type": "code",
   "execution_count": 67,
   "metadata": {},
   "outputs": [],
   "source": [
    "file1 = open(r\"TestInput.txt\", 'r') \n",
    "lines = file1.readlines() "
   ]
  },
  {
   "cell_type": "code",
   "execution_count": 68,
   "metadata": {},
   "outputs": [],
   "source": [
    "passports = []\n",
    "def generatePassports():\n",
    "    passport = {}\n",
    "    for line in lines:\n",
    "        if (line == '\\n'):\n",
    "            passports.append(passport)\n",
    "            passport = {}\n",
    "        else:\n",
    "            fields = line.split(' ')\n",
    "            for field in fields:\n",
    "                kv = field.split(':')\n",
    "                passport[kv[0]] = kv[1]\n",
    "    \n",
    "    passports.append(passport)\n",
    "\n",
    "generatePassports()"
   ]
  },
  {
   "source": [
    "def isValid(passport, ignoreCid):\n",
    "    return 'byr' in passport and \\\n",
    "        'iyr' in passport and \\\n",
    "        'eyr' in passport and \\\n",
    "        'hgt' in passport and \\\n",
    "        'hcl' in passport and \\\n",
    "        'ecl' in passport and \\\n",
    "        'pid' in passport and \\\n",
    "        ('cid' in passport or ignoreCid == True)\n",
    "\n",
    "isValid(passports[2], True)"
   ],
   "cell_type": "code",
   "metadata": {},
   "execution_count": 69,
   "outputs": [
    {
     "output_type": "execute_result",
     "data": {
      "text/plain": [
       "True"
      ]
     },
     "metadata": {},
     "execution_count": 69
    }
   ]
  },
  {
   "cell_type": "code",
   "execution_count": 70,
   "metadata": {},
   "outputs": [
    {
     "output_type": "execute_result",
     "data": {
      "text/plain": [
       "206"
      ]
     },
     "metadata": {},
     "execution_count": 70
    }
   ],
   "source": [
    "validPassports = 0\n",
    "for passport in passports:\n",
    "    if isValid(passport, True):\n",
    "        validPassports += 1\n",
    "validPassports"
   ]
  },
  {
   "cell_type": "code",
   "execution_count": null,
   "metadata": {},
   "outputs": [],
   "source": []
  }
 ]
}