{
 "metadata": {
  "language_info": {
   "codemirror_mode": {
    "name": "ipython",
    "version": 3
   },
   "file_extension": ".py",
   "mimetype": "text/x-python",
   "name": "python",
   "nbconvert_exporter": "python",
   "pygments_lexer": "ipython3",
   "version": "3.8.1-final"
  },
  "orig_nbformat": 2,
  "kernelspec": {
   "name": "python38164bit38516b06caf242f187f61d50df0f2a50",
   "display_name": "Python 3.8.1 64-bit"
  }
 },
 "nbformat": 4,
 "nbformat_minor": 2,
 "cells": [
  {
   "cell_type": "code",
   "execution_count": 24,
   "metadata": {},
   "outputs": [],
   "source": [
    "file1 = open(r\"input.txt\", 'r') \n",
    "lines = file1.readlines() "
   ]
  },
  {
   "cell_type": "code",
   "execution_count": 25,
   "metadata": {},
   "outputs": [],
   "source": [
    "import re"
   ]
  },
  {
   "cell_type": "code",
   "execution_count": 26,
   "metadata": {},
   "outputs": [],
   "source": [
    "passports = []\n",
    "def generatePassports():\n",
    "    passport = {}\n",
    "    for line in lines:\n",
    "        if (line == '\\n'):\n",
    "            passports.append(passport)\n",
    "            passport = {}\n",
    "        else:\n",
    "            fields = line.split(' ')\n",
    "            for field in fields:\n",
    "                kv = field.split(':')\n",
    "                passport[kv[0]] = kv[1].rstrip()\n",
    "    \n",
    "    passports.append(passport)\n",
    "\n",
    "generatePassports()"
   ]
  },
  {
   "cell_type": "code",
   "execution_count": 27,
   "metadata": {},
   "outputs": [
    {
     "output_type": "execute_result",
     "data": {
      "text/plain": [
       "True"
      ]
     },
     "metadata": {},
     "execution_count": 27
    }
   ],
   "source": [
    "def numValid(num, min, max, leng):\n",
    "    return (len(num) == leng) and \\\n",
    "        min <= int(num) <= max\n",
    "numValid(\"2010\", 2010, 2020, 4)"
   ]
  },
  {
   "cell_type": "code",
   "execution_count": 28,
   "metadata": {},
   "outputs": [],
   "source": [
    "def hgtValid(hgt):\n",
    "    splitAt = len(hgt) - 2\n",
    "    try:\n",
    "        hoogte, cmOfIn = int(hgt[:splitAt]), hgt[splitAt:]\n",
    "    except:\n",
    "        return False\n",
    "\n",
    "    return (cmOfIn == \"cm\" and \\\n",
    "        150 <= hoogte <= 193 ) or (\n",
    "        cmOfIn == \"in\" and \\\n",
    "        59 <= hoogte <= 76\n",
    "        )"
   ]
  },
  {
   "source": [
    "def isValid(passport, ignoreCid):\n",
    "    if ('byr' not in passport or numValid(passport[\"byr\"], 1920, 2002, 4) == False):\n",
    "       return False\n",
    "    \n",
    "    if ('iyr' not in passport or numValid(passport[\"iyr\"], 2010, 2020, 4) == False):\n",
    "        return False\n",
    "    \n",
    "    if ('eyr' not in passport or numValid(passport[\"eyr\"], 2020, 2030, 4) == False):\n",
    "        return False\n",
    "\n",
    "    if ('hgt' not in passport or hgtValid(passport[\"hgt\"]) == False):\n",
    "        return False\n",
    "\n",
    "    if ('hcl' not in passport or (re.match(\"#[0-9abcdef]{6}\", passport[\"hcl\"]) is not None) == False):\n",
    "        return False\n",
    "\n",
    "    if ('ecl' not in passport or (re.match(\"[amb|blu|brn|gry|grn|hzl|oth]\", passport[\"ecl\"]) is not None) == False):\n",
    "        return False\n",
    "\n",
    "    if ('pid' not in passport or (re.match(\"^\\d{9}$\", passport[\"pid\"]) is not None) == False):\n",
    "        return False\n",
    "\n",
    "    return True\n"
   ],
   "cell_type": "code",
   "metadata": {},
   "execution_count": 55,
   "outputs": []
  },
  {
   "cell_type": "code",
   "execution_count": 57,
   "metadata": {
    "tags": []
   },
   "outputs": [
    {
     "output_type": "execute_result",
     "data": {
      "text/plain": [
       "123"
      ]
     },
     "metadata": {},
     "execution_count": 57
    }
   ],
   "source": [
    "validPassports = []\n",
    "\n",
    "for passport in passports:\n",
    "    if isValid(passport, True):\n",
    "        validPassports.append(passport)\n",
    "len(validPassports)"
   ]
  },
  {
   "cell_type": "code",
   "execution_count": null,
   "metadata": {},
   "outputs": [],
   "source": []
  }
 ]
}